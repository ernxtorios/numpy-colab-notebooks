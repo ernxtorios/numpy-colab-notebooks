{
  "nbformat": 4,
  "nbformat_minor": 0,
  "metadata": {
    "colab": {
      "provenance": [],
      "authorship_tag": "ABX9TyPOxtVybwoRZqaGH1x8Bk49",
      "include_colab_link": true
    },
    "kernelspec": {
      "name": "python3",
      "display_name": "Python 3"
    },
    "language_info": {
      "name": "python"
    }
  },
  "cells": [
    {
      "cell_type": "markdown",
      "metadata": {
        "id": "view-in-github",
        "colab_type": "text"
      },
      "source": [
        "<a href=\"https://colab.research.google.com/github/ernxtorios/numpy-colab-notebooks/blob/main/NumPyFunctionsArrays.ipynb\" target=\"_parent\"><img src=\"https://colab.research.google.com/assets/colab-badge.svg\" alt=\"Open In Colab\"/></a>"
      ]
    },
    {
      "cell_type": "markdown",
      "source": [
        "# More Functions and Stacking on NumPy Arrays"
      ],
      "metadata": {
        "id": "S0aMCbm9Efgq"
      }
    },
    {
      "cell_type": "markdown",
      "source": [
        "## Functions of NumPy Arrays\n"
      ],
      "metadata": {
        "id": "LCzsxc7wEodS"
      }
    },
    {
      "cell_type": "code",
      "execution_count": null,
      "metadata": {
        "id": "IPAptcw7EZoR",
        "colab": {
          "base_uri": "https://localhost:8080/"
        },
        "outputId": "8e96a0c8-6c00-4e15-fbe7-ccbc461be5fe"
      },
      "outputs": [
        {
          "output_type": "execute_result",
          "data": {
            "text/plain": [
              "array([12,  3,  4, 61,  9, 10])"
            ]
          },
          "metadata": {},
          "execution_count": 1
        }
      ],
      "source": [
        "import numpy as np\n",
        "\n",
        "a_arr = np.array([12, 3, 4, 61, 9, 10])\n",
        "\n",
        "a_arr"
      ]
    },
    {
      "cell_type": "code",
      "source": [
        "print(np.min(a_arr))"
      ],
      "metadata": {
        "colab": {
          "base_uri": "https://localhost:8080/"
        },
        "id": "jVEmgxERFo4U",
        "outputId": "3ca2c5bf-64a8-4de0-d13d-f2f490039da0"
      },
      "execution_count": null,
      "outputs": [
        {
          "output_type": "stream",
          "name": "stdout",
          "text": [
            "3\n"
          ]
        }
      ]
    },
    {
      "cell_type": "code",
      "source": [
        "print(np.max(a_arr))"
      ],
      "metadata": {
        "colab": {
          "base_uri": "https://localhost:8080/"
        },
        "id": "ffQQXiyAF4Il",
        "outputId": "ea97cd49-befb-4714-fbb9-a2977b90acd1"
      },
      "execution_count": null,
      "outputs": [
        {
          "output_type": "stream",
          "name": "stdout",
          "text": [
            "61\n"
          ]
        }
      ]
    },
    {
      "cell_type": "code",
      "source": [
        "print(np.argmin(a_arr))"
      ],
      "metadata": {
        "colab": {
          "base_uri": "https://localhost:8080/"
        },
        "id": "e1CRnZZ-F-uz",
        "outputId": "d180ad79-38fd-4154-d5ee-048934b6eee0"
      },
      "execution_count": null,
      "outputs": [
        {
          "output_type": "stream",
          "name": "stdout",
          "text": [
            "1\n"
          ]
        }
      ]
    },
    {
      "cell_type": "code",
      "source": [
        "print(np.argmax(a_arr))"
      ],
      "metadata": {
        "colab": {
          "base_uri": "https://localhost:8080/"
        },
        "id": "ci51iibQGphi",
        "outputId": "45ecaec7-48c2-4f16-e6d8-c8f2f5d308c8"
      },
      "execution_count": null,
      "outputs": [
        {
          "output_type": "stream",
          "name": "stdout",
          "text": [
            "3\n"
          ]
        }
      ]
    },
    {
      "cell_type": "code",
      "source": [
        "print(np.sqrt(a_arr))"
      ],
      "metadata": {
        "colab": {
          "base_uri": "https://localhost:8080/"
        },
        "id": "XZG-cQYWGy4S",
        "outputId": "224b5acb-df73-4680-9952-9c4c7e1acecf"
      },
      "execution_count": null,
      "outputs": [
        {
          "output_type": "stream",
          "name": "stdout",
          "text": [
            "[3.46410162 1.73205081 2.         7.81024968 3.         3.16227766]\n"
          ]
        }
      ]
    },
    {
      "cell_type": "code",
      "source": [
        "print(np.sin(a_arr))"
      ],
      "metadata": {
        "colab": {
          "base_uri": "https://localhost:8080/"
        },
        "id": "DAXegKn3G_jo",
        "outputId": "9d56e7eb-b5a8-496c-e367-4b2a24e4ca77"
      },
      "execution_count": null,
      "outputs": [
        {
          "output_type": "stream",
          "name": "stdout",
          "text": [
            "[-0.53657292  0.14112001 -0.7568025  -0.96611777  0.41211849 -0.54402111]\n"
          ]
        }
      ]
    },
    {
      "cell_type": "code",
      "source": [
        "print(np.cos(a_arr))"
      ],
      "metadata": {
        "colab": {
          "base_uri": "https://localhost:8080/"
        },
        "id": "md29uVO3HH4J",
        "outputId": "fb056986-b965-43cb-94df-28f043f04b73"
      },
      "execution_count": null,
      "outputs": [
        {
          "output_type": "stream",
          "name": "stdout",
          "text": [
            "[ 0.84385396 -0.9899925  -0.65364362 -0.25810164 -0.91113026 -0.83907153]\n"
          ]
        }
      ]
    },
    {
      "cell_type": "code",
      "source": [
        "np.random.seed(11)\n",
        "matrix = np.random.randint(1, 21, 9).reshape(3, 3)\n",
        "matrix"
      ],
      "metadata": {
        "colab": {
          "base_uri": "https://localhost:8080/"
        },
        "id": "hbZfCgY7HK28",
        "outputId": "dabdc893-4ce4-4b4f-e046-2429344f6254"
      },
      "execution_count": null,
      "outputs": [
        {
          "output_type": "execute_result",
          "data": {
            "text/plain": [
              "array([[17, 18, 14],\n",
              "       [13,  2,  8],\n",
              "       [19, 14, 17]])"
            ]
          },
          "metadata": {},
          "execution_count": 10
        }
      ]
    },
    {
      "cell_type": "code",
      "source": [
        "print(np.sum(matrix))"
      ],
      "metadata": {
        "colab": {
          "base_uri": "https://localhost:8080/"
        },
        "id": "3y7_4sIdH4Wu",
        "outputId": "2c8ecd80-5cf1-4e37-ce2a-b0c3cc6318bc"
      },
      "execution_count": null,
      "outputs": [
        {
          "output_type": "stream",
          "name": "stdout",
          "text": [
            "122\n"
          ]
        }
      ]
    },
    {
      "cell_type": "code",
      "source": [
        "print(np.min(matrix))"
      ],
      "metadata": {
        "colab": {
          "base_uri": "https://localhost:8080/"
        },
        "id": "ZFQitUopIDlm",
        "outputId": "2c9cc618-fa44-442b-a417-d9024ca5319c"
      },
      "execution_count": null,
      "outputs": [
        {
          "output_type": "stream",
          "name": "stdout",
          "text": [
            "2\n"
          ]
        }
      ]
    },
    {
      "cell_type": "code",
      "source": [
        "print(np.max(matrix))"
      ],
      "metadata": {
        "colab": {
          "base_uri": "https://localhost:8080/"
        },
        "id": "e24yLzCmIL4E",
        "outputId": "b457b3c3-1b8a-47ac-b200-2364c4705e82"
      },
      "execution_count": null,
      "outputs": [
        {
          "output_type": "stream",
          "name": "stdout",
          "text": [
            "19\n"
          ]
        }
      ]
    },
    {
      "cell_type": "code",
      "source": [
        "print(np.min(matrix, axis=0)) # columnas\n",
        "print(np.min(matrix, axis=1)) # filas"
      ],
      "metadata": {
        "colab": {
          "base_uri": "https://localhost:8080/"
        },
        "id": "vVXi3J1-IPS0",
        "outputId": "f6183250-89ff-487e-9136-6b22b879d420"
      },
      "execution_count": null,
      "outputs": [
        {
          "output_type": "stream",
          "name": "stdout",
          "text": [
            "[13  2  8]\n",
            "[14  2 14]\n"
          ]
        }
      ]
    },
    {
      "cell_type": "code",
      "source": [
        "print(np.max(matrix, axis=0)) # columnas\n",
        "print(np.max(matrix, axis=1)) # filas"
      ],
      "metadata": {
        "colab": {
          "base_uri": "https://localhost:8080/"
        },
        "id": "KBea271LJKJe",
        "outputId": "8ad43785-7c68-4764-e75e-566aa514dd26"
      },
      "execution_count": null,
      "outputs": [
        {
          "output_type": "stream",
          "name": "stdout",
          "text": [
            "[19 18 17]\n",
            "[18 13 19]\n"
          ]
        }
      ]
    },
    {
      "cell_type": "code",
      "source": [
        "matrix"
      ],
      "metadata": {
        "colab": {
          "base_uri": "https://localhost:8080/"
        },
        "id": "72JWzQRQJ_yM",
        "outputId": "ba5f0e7e-fedb-4b7c-c2ed-1a1c52e98b2a"
      },
      "execution_count": null,
      "outputs": [
        {
          "output_type": "execute_result",
          "data": {
            "text/plain": [
              "array([[17, 18, 14],\n",
              "       [13,  2,  8],\n",
              "       [19, 14, 17]])"
            ]
          },
          "metadata": {},
          "execution_count": 18
        }
      ]
    },
    {
      "cell_type": "code",
      "source": [
        "print(np.sum(matrix, axis=0)) # columnas\n",
        "print(np.sum(matrix, axis=1)) # filas"
      ],
      "metadata": {
        "colab": {
          "base_uri": "https://localhost:8080/"
        },
        "id": "oytWCGm5KHWl",
        "outputId": "bb128f94-40dc-44c2-9369-87255b16f83d"
      },
      "execution_count": null,
      "outputs": [
        {
          "output_type": "stream",
          "name": "stdout",
          "text": [
            "[49 34 39]\n",
            "[49 23 50]\n"
          ]
        }
      ]
    },
    {
      "cell_type": "code",
      "source": [
        "np.cumsum(matrix)"
      ],
      "metadata": {
        "colab": {
          "base_uri": "https://localhost:8080/"
        },
        "id": "-MtEZ7MbKaW_",
        "outputId": "17adc105-4b7c-439e-804f-41fcfe58d21d"
      },
      "execution_count": null,
      "outputs": [
        {
          "output_type": "execute_result",
          "data": {
            "text/plain": [
              "array([ 17,  35,  49,  62,  64,  72,  91, 105, 122])"
            ]
          },
          "metadata": {},
          "execution_count": 20
        }
      ]
    },
    {
      "cell_type": "code",
      "source": [
        "matrix"
      ],
      "metadata": {
        "colab": {
          "base_uri": "https://localhost:8080/"
        },
        "id": "CRlC-lGqRu0b",
        "outputId": "fd1492f2-cfc5-47d5-b3f3-aa7a59204ee6"
      },
      "execution_count": null,
      "outputs": [
        {
          "output_type": "execute_result",
          "data": {
            "text/plain": [
              "array([[17, 18, 14],\n",
              "       [13,  2,  8],\n",
              "       [19, 14, 17]])"
            ]
          },
          "metadata": {},
          "execution_count": 22
        }
      ]
    },
    {
      "cell_type": "code",
      "source": [
        "print(np.cumsum(matrix, axis=0)) # columnas\n",
        "print(np.cumsum(matrix, axis=1)) # filas"
      ],
      "metadata": {
        "colab": {
          "base_uri": "https://localhost:8080/"
        },
        "id": "dHnDreJBRUgS",
        "outputId": "7bd83fef-636d-4a0a-c550-9efa0c74ebdb"
      },
      "execution_count": null,
      "outputs": [
        {
          "output_type": "stream",
          "name": "stdout",
          "text": [
            "[[17 18 14]\n",
            " [30 20 22]\n",
            " [49 34 39]]\n",
            "[[17 35 49]\n",
            " [13 15 23]\n",
            " [19 33 50]]\n"
          ]
        }
      ]
    },
    {
      "cell_type": "markdown",
      "source": [
        "## Suffle and Unique"
      ],
      "metadata": {
        "id": "AByKrRL0SW4T"
      }
    },
    {
      "cell_type": "code",
      "source": [
        "b_arr = np.random.randint(1, 21, 10)\n",
        "\n",
        "b_arr"
      ],
      "metadata": {
        "colab": {
          "base_uri": "https://localhost:8080/"
        },
        "id": "7qqyR5EZSPCR",
        "outputId": "fb7df85f-74bc-4e37-e370-f1af685b570d"
      },
      "execution_count": null,
      "outputs": [
        {
          "output_type": "execute_result",
          "data": {
            "text/plain": [
              "array([ 1, 14, 13,  5,  3, 13,  2, 11,  6,  8])"
            ]
          },
          "metadata": {},
          "execution_count": 24
        }
      ]
    },
    {
      "cell_type": "code",
      "source": [
        "np.random.shuffle(b_arr)\n",
        "\n",
        "b_arr"
      ],
      "metadata": {
        "colab": {
          "base_uri": "https://localhost:8080/"
        },
        "id": "mrjgDFmzeFMI",
        "outputId": "22ff6365-2b57-4ae8-aa73-62cdfa385274"
      },
      "execution_count": null,
      "outputs": [
        {
          "output_type": "execute_result",
          "data": {
            "text/plain": [
              "array([ 6,  3, 13,  5, 13, 11,  1, 14,  8,  2])"
            ]
          },
          "metadata": {},
          "execution_count": 33
        }
      ]
    },
    {
      "cell_type": "code",
      "source": [
        "c_arr = np.array([10, 20, 30, 40, 10, 20, 30, 50])\n",
        "\n",
        "print(c_arr)\n",
        "print(c_arr.size)"
      ],
      "metadata": {
        "colab": {
          "base_uri": "https://localhost:8080/"
        },
        "id": "gk9JQd6rev-1",
        "outputId": "e6251745-c345-4fb7-e97e-d660b09c4693"
      },
      "execution_count": null,
      "outputs": [
        {
          "output_type": "stream",
          "name": "stdout",
          "text": [
            "[10 20 30 40 10 20 30 50]\n",
            "8\n"
          ]
        }
      ]
    },
    {
      "cell_type": "code",
      "source": [
        "np.unique(c_arr)"
      ],
      "metadata": {
        "colab": {
          "base_uri": "https://localhost:8080/"
        },
        "id": "aJ0EC4ubfhD0",
        "outputId": "c70bcb45-51f1-4d86-9498-39b4299e5a18"
      },
      "execution_count": null,
      "outputs": [
        {
          "output_type": "execute_result",
          "data": {
            "text/plain": [
              "array([10, 20, 30, 40, 50])"
            ]
          },
          "metadata": {},
          "execution_count": 39
        }
      ]
    },
    {
      "cell_type": "code",
      "source": [
        "np.unique(c_arr).size"
      ],
      "metadata": {
        "colab": {
          "base_uri": "https://localhost:8080/"
        },
        "id": "_x7BEO9WfJEh",
        "outputId": "f68e65d7-71ed-4b30-f649-5a25e1b2acee"
      },
      "execution_count": null,
      "outputs": [
        {
          "output_type": "execute_result",
          "data": {
            "text/plain": [
              "5"
            ]
          },
          "metadata": {},
          "execution_count": 38
        }
      ]
    },
    {
      "cell_type": "code",
      "source": [
        "np.unique(c_arr, return_index=True)"
      ],
      "metadata": {
        "colab": {
          "base_uri": "https://localhost:8080/"
        },
        "id": "1PgtCMVbfb2q",
        "outputId": "33691950-af6c-4ed1-f94c-5bc8fc1ac1c1"
      },
      "execution_count": null,
      "outputs": [
        {
          "output_type": "execute_result",
          "data": {
            "text/plain": [
              "(array([10, 20, 30, 40, 50]), array([0, 1, 2, 3, 7]))"
            ]
          },
          "metadata": {},
          "execution_count": 41
        }
      ]
    },
    {
      "cell_type": "code",
      "source": [
        "np.unique(c_arr, return_index=True, return_counts=True)"
      ],
      "metadata": {
        "colab": {
          "base_uri": "https://localhost:8080/"
        },
        "id": "YHY9-A7Qp_qb",
        "outputId": "8ab89731-8e92-4c94-9f5b-6c582fd00124"
      },
      "execution_count": null,
      "outputs": [
        {
          "output_type": "execute_result",
          "data": {
            "text/plain": [
              "(array([10, 20, 30, 40, 50]), array([0, 1, 2, 3, 7]), array([2, 2, 2, 1, 1]))"
            ]
          },
          "metadata": {},
          "execution_count": 42
        }
      ]
    },
    {
      "cell_type": "markdown",
      "source": [
        "## Stacking"
      ],
      "metadata": {
        "id": "PgqHdetuqXgs"
      }
    },
    {
      "cell_type": "code",
      "source": [
        "a = np.array([1, 2, 3, 4])\n",
        "b = np.array([5, 6, 7, 8])\n",
        "\n",
        "print(a)\n",
        "print(b)"
      ],
      "metadata": {
        "colab": {
          "base_uri": "https://localhost:8080/"
        },
        "id": "jQCtZqKQqaPQ",
        "outputId": "a45a7546-3d53-456b-b042-9829e4c1e32c"
      },
      "execution_count": null,
      "outputs": [
        {
          "output_type": "stream",
          "name": "stdout",
          "text": [
            "[1 2 3 4]\n",
            "[5 6 7 8]\n"
          ]
        }
      ]
    },
    {
      "cell_type": "code",
      "source": [
        "np.hstack((a, b))"
      ],
      "metadata": {
        "colab": {
          "base_uri": "https://localhost:8080/"
        },
        "id": "fb7MGISFq2iA",
        "outputId": "176b9eb0-902f-45d4-ca8d-627d154b96c0"
      },
      "execution_count": null,
      "outputs": [
        {
          "output_type": "execute_result",
          "data": {
            "text/plain": [
              "array([1, 2, 3, 4, 5, 6, 7, 8])"
            ]
          },
          "metadata": {},
          "execution_count": 44
        }
      ]
    },
    {
      "cell_type": "code",
      "source": [
        "np.vstack((a, b))"
      ],
      "metadata": {
        "colab": {
          "base_uri": "https://localhost:8080/"
        },
        "id": "0k7VdWrHrEcr",
        "outputId": "20c3fd03-cdfa-413a-884f-8e4dba3700f3"
      },
      "execution_count": null,
      "outputs": [
        {
          "output_type": "execute_result",
          "data": {
            "text/plain": [
              "array([[1, 2, 3, 4],\n",
              "       [5, 6, 7, 8]])"
            ]
          },
          "metadata": {},
          "execution_count": 45
        }
      ]
    },
    {
      "cell_type": "code",
      "source": [
        "np.random.seed(111)\n",
        "\n",
        "a1 = np.random.randint(1, 21, 9).reshape(3, 3)\n",
        "b1 = np.random.randint(21, 41, 9).reshape(3, 3)\n",
        "\n",
        "print(a1)\n",
        "print(b1)"
      ],
      "metadata": {
        "colab": {
          "base_uri": "https://localhost:8080/"
        },
        "id": "-rT0V3Air9wO",
        "outputId": "a514414a-4e27-46a5-fc2e-171cd805a361"
      },
      "execution_count": null,
      "outputs": [
        {
          "output_type": "stream",
          "name": "stdout",
          "text": [
            "[[13 20 10]\n",
            " [ 3 19  9]\n",
            " [ 8  8 13]]\n",
            "[[31 22 37]\n",
            " [35 23 29]\n",
            " [26 33 27]]\n"
          ]
        }
      ]
    },
    {
      "cell_type": "code",
      "source": [
        "np.hstack((a1, b1))"
      ],
      "metadata": {
        "colab": {
          "base_uri": "https://localhost:8080/"
        },
        "id": "dZyZ6_rSsg8a",
        "outputId": "554a595c-bfec-44fb-f77a-0b0ebb9c0ae3"
      },
      "execution_count": null,
      "outputs": [
        {
          "output_type": "execute_result",
          "data": {
            "text/plain": [
              "array([[13, 20, 10, 31, 22, 37],\n",
              "       [ 3, 19,  9, 35, 23, 29],\n",
              "       [ 8,  8, 13, 26, 33, 27]])"
            ]
          },
          "metadata": {},
          "execution_count": 48
        }
      ]
    },
    {
      "cell_type": "code",
      "source": [
        "np.vstack((a1, b1))"
      ],
      "metadata": {
        "colab": {
          "base_uri": "https://localhost:8080/"
        },
        "id": "lsiNsTF1s0Zn",
        "outputId": "420fea32-615c-48b1-c984-9b560d56d2e5"
      },
      "execution_count": null,
      "outputs": [
        {
          "output_type": "execute_result",
          "data": {
            "text/plain": [
              "array([[13, 20, 10],\n",
              "       [ 3, 19,  9],\n",
              "       [ 8,  8, 13],\n",
              "       [31, 22, 37],\n",
              "       [35, 23, 29],\n",
              "       [26, 33, 27]])"
            ]
          },
          "metadata": {},
          "execution_count": 49
        }
      ]
    },
    {
      "cell_type": "code",
      "source": [],
      "metadata": {
        "id": "02iY4xj2tBNo"
      },
      "execution_count": null,
      "outputs": []
    }
  ]
}