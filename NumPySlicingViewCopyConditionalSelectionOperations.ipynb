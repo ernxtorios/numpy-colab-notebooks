{
  "nbformat": 4,
  "nbformat_minor": 0,
  "metadata": {
    "colab": {
      "provenance": [],
      "authorship_tag": "ABX9TyM47qQ1kPDYELpXxH0TWh2O",
      "include_colab_link": true
    },
    "kernelspec": {
      "name": "python3",
      "display_name": "Python 3"
    },
    "language_info": {
      "name": "python"
    }
  },
  "cells": [
    {
      "cell_type": "markdown",
      "metadata": {
        "id": "view-in-github",
        "colab_type": "text"
      },
      "source": [
        "<a href=\"https://colab.research.google.com/github/ernxtorios/numpy-colab-notebooks/blob/main/NumPySlicingViewCopyConditionalSelectionOperations.ipynb\" target=\"_parent\"><img src=\"https://colab.research.google.com/assets/colab-badge.svg\" alt=\"Open In Colab\"/></a>"
      ]
    },
    {
      "cell_type": "markdown",
      "source": [
        "# Slicing, View, Copy, Conditional Selection, Operations on Numpy Arrays"
      ],
      "metadata": {
        "id": "pOcVoXCYoQcD"
      }
    },
    {
      "cell_type": "markdown",
      "source": [
        "## Slicing"
      ],
      "metadata": {
        "id": "TLqwn9lXonh5"
      }
    },
    {
      "cell_type": "code",
      "execution_count": null,
      "metadata": {
        "id": "J2m9xXjQn_vF"
      },
      "outputs": [],
      "source": [
        "import numpy as np"
      ]
    },
    {
      "cell_type": "code",
      "source": [
        "np.random.seed(111)\n",
        "a_arr = np.random.randint(1, 500, 30).reshape(6, 5)\n",
        "\n",
        "a_arr"
      ],
      "metadata": {
        "colab": {
          "base_uri": "https://localhost:8080/"
        },
        "id": "ENrhdyi1pTTp",
        "outputId": "05c117d6-eb14-4c72-d2f0-d388b7f882a5"
      },
      "execution_count": null,
      "outputs": [
        {
          "output_type": "execute_result",
          "data": {
            "text/plain": [
              "array([[341, 365, 469, 213,  87],\n",
              "       [276, 170, 323, 119, 467],\n",
              "       [297, 456, 442,   8, 269],\n",
              "       [267, 450, 369, 217, 285],\n",
              "       [271, 419,  22,  55, 201],\n",
              "       [ 38, 461, 231, 187, 269]])"
            ]
          },
          "metadata": {},
          "execution_count": 8
        }
      ]
    },
    {
      "cell_type": "code",
      "source": [
        "# 4 primeras filas y 5 columnas\n",
        "a_arr[:4, :]"
      ],
      "metadata": {
        "colab": {
          "base_uri": "https://localhost:8080/"
        },
        "id": "vEQmt-HWqDWs",
        "outputId": "1c38cad4-15ac-483d-d332-be219c212e52"
      },
      "execution_count": null,
      "outputs": [
        {
          "output_type": "execute_result",
          "data": {
            "text/plain": [
              "array([[341, 365, 469, 213,  87],\n",
              "       [276, 170, 323, 119, 467],\n",
              "       [297, 456, 442,   8, 269],\n",
              "       [267, 450, 369, 217, 285]])"
            ]
          },
          "metadata": {},
          "execution_count": 9
        }
      ]
    },
    {
      "cell_type": "code",
      "source": [
        "a_arr[2:4, 1:4]"
      ],
      "metadata": {
        "colab": {
          "base_uri": "https://localhost:8080/"
        },
        "id": "yr6Ys0B5q2wA",
        "outputId": "5c2ea917-ef7e-41aa-9f7e-40e59fcd4316"
      },
      "execution_count": null,
      "outputs": [
        {
          "output_type": "execute_result",
          "data": {
            "text/plain": [
              "array([[456, 442,   8],\n",
              "       [450, 369, 217]])"
            ]
          },
          "metadata": {},
          "execution_count": 4
        }
      ]
    },
    {
      "cell_type": "markdown",
      "source": [
        "## View and Copy"
      ],
      "metadata": {
        "id": "T9Sv491Vr5-6"
      }
    },
    {
      "cell_type": "code",
      "source": [
        "b_arr = np.arange(1, 16)\n",
        "b_arr_view = b_arr[:].view()\n",
        "\n",
        "print(b_arr)\n",
        "print(b_arr_view)"
      ],
      "metadata": {
        "colab": {
          "base_uri": "https://localhost:8080/"
        },
        "id": "SWlZovWIrwMt",
        "outputId": "5ac2de8c-cdd4-4104-91cb-85799439fc58"
      },
      "execution_count": null,
      "outputs": [
        {
          "output_type": "stream",
          "name": "stdout",
          "text": [
            "[ 1  2  3  4  5  6  7  8  9 10 11 12 13 14 15]\n",
            "[ 1  2  3  4  5  6  7  8  9 10 11 12 13 14 15]\n"
          ]
        }
      ]
    },
    {
      "cell_type": "code",
      "source": [
        "b_arr_view[3:6] = 0\n",
        "\n",
        "print(b_arr)\n",
        "print(b_arr_view)"
      ],
      "metadata": {
        "colab": {
          "base_uri": "https://localhost:8080/"
        },
        "id": "3UlHHU_P-Bnw",
        "outputId": "0c0b04a3-bf70-400e-857f-f0db901fa711"
      },
      "execution_count": null,
      "outputs": [
        {
          "output_type": "stream",
          "name": "stdout",
          "text": [
            "[ 1  2  3  0  0  0  7  8  9 10 11 12 13 14 15]\n",
            "[ 1  2  3  0  0  0  7  8  9 10 11 12 13 14 15]\n"
          ]
        }
      ]
    },
    {
      "cell_type": "code",
      "source": [
        "c_arr = np.arange(1, 16)\n",
        "c_arr_copy = c_arr[:].copy()\n",
        "\n",
        "print(c_arr)\n",
        "print(c_arr_copy)"
      ],
      "metadata": {
        "colab": {
          "base_uri": "https://localhost:8080/"
        },
        "id": "03AlSBi6-TEH",
        "outputId": "2312d466-36f5-4e38-8dbc-89dcb731a1a2"
      },
      "execution_count": null,
      "outputs": [
        {
          "output_type": "stream",
          "name": "stdout",
          "text": [
            "[ 1  2  3  4  5  6  7  8  9 10 11 12 13 14 15]\n",
            "[ 1  2  3  4  5  6  7  8  9 10 11 12 13 14 15]\n"
          ]
        }
      ]
    },
    {
      "cell_type": "code",
      "source": [
        "c_arr_copy[3:6] = 0\n",
        "\n",
        "print(c_arr)\n",
        "print(c_arr_copy)"
      ],
      "metadata": {
        "colab": {
          "base_uri": "https://localhost:8080/"
        },
        "id": "YlLmMpEwAInQ",
        "outputId": "f17ab87e-2b5a-4be0-eccb-c83414e1452e"
      },
      "execution_count": null,
      "outputs": [
        {
          "output_type": "stream",
          "name": "stdout",
          "text": [
            "[ 1  2  3  4  5  6  7  8  9 10 11 12 13 14 15]\n",
            "[ 1  2  3  0  0  0  7  8  9 10 11 12 13 14 15]\n"
          ]
        }
      ]
    },
    {
      "cell_type": "markdown",
      "source": [
        "## Conditional Selection"
      ],
      "metadata": {
        "id": "7MsgshWLAgDW"
      }
    },
    {
      "cell_type": "code",
      "source": [
        "d_arr = np.arange(1, 16)\n",
        "\n",
        "d_arr"
      ],
      "metadata": {
        "colab": {
          "base_uri": "https://localhost:8080/"
        },
        "id": "sPQBXKiuAkme",
        "outputId": "99de86d6-a341-4c3c-d4b4-f03c40739573"
      },
      "execution_count": null,
      "outputs": [
        {
          "output_type": "execute_result",
          "data": {
            "text/plain": [
              "array([ 1,  2,  3,  4,  5,  6,  7,  8,  9, 10, 11, 12, 13, 14, 15])"
            ]
          },
          "metadata": {},
          "execution_count": 16
        }
      ]
    },
    {
      "cell_type": "code",
      "source": [
        "d_arr > 10"
      ],
      "metadata": {
        "colab": {
          "base_uri": "https://localhost:8080/"
        },
        "id": "TAlbWJzdAz02",
        "outputId": "6827048c-796d-4145-fdc2-f2e176102dec"
      },
      "execution_count": null,
      "outputs": [
        {
          "output_type": "execute_result",
          "data": {
            "text/plain": [
              "array([False, False, False, False, False, False, False, False, False,\n",
              "       False,  True,  True,  True,  True,  True])"
            ]
          },
          "metadata": {},
          "execution_count": 17
        }
      ]
    },
    {
      "cell_type": "code",
      "source": [
        "d_arr[d_arr > 10]"
      ],
      "metadata": {
        "colab": {
          "base_uri": "https://localhost:8080/"
        },
        "id": "I1LHzKgSBApY",
        "outputId": "9a1afa51-18af-49de-ab66-bea096e92d1c"
      },
      "execution_count": null,
      "outputs": [
        {
          "output_type": "execute_result",
          "data": {
            "text/plain": [
              "array([11, 12, 13, 14, 15])"
            ]
          },
          "metadata": {},
          "execution_count": 18
        }
      ]
    },
    {
      "cell_type": "code",
      "source": [
        "print(d_arr)\n",
        "\n",
        "print(d_arr[d_arr % 2 == 0])\n",
        "\n",
        "print(d_arr[d_arr % 2 != 0])"
      ],
      "metadata": {
        "colab": {
          "base_uri": "https://localhost:8080/"
        },
        "id": "q9wULgSYBOKd",
        "outputId": "0a3e15cb-2011-48fc-fe38-9e3b508c83ee"
      },
      "execution_count": null,
      "outputs": [
        {
          "output_type": "stream",
          "name": "stdout",
          "text": [
            "[ 1  2  3  4  5  6  7  8  9 10 11 12 13 14 15]\n",
            "[ 2  4  6  8 10 12 14]\n",
            "[ 1  3  5  7  9 11 13 15]\n"
          ]
        }
      ]
    },
    {
      "cell_type": "markdown",
      "source": [
        "## Mathematical Operations"
      ],
      "metadata": {
        "id": "ZPC5qNigB_V1"
      }
    },
    {
      "cell_type": "code",
      "source": [
        "e_arr = np.arange(1, 5)\n",
        "\n",
        "e_arr"
      ],
      "metadata": {
        "colab": {
          "base_uri": "https://localhost:8080/"
        },
        "id": "zseiyJP1CGhc",
        "outputId": "938fca82-dadc-4c82-b220-bf73b7e0d893"
      },
      "execution_count": null,
      "outputs": [
        {
          "output_type": "execute_result",
          "data": {
            "text/plain": [
              "array([1, 2, 3, 4])"
            ]
          },
          "metadata": {},
          "execution_count": 22
        }
      ]
    },
    {
      "cell_type": "code",
      "source": [
        "e_arr + 2"
      ],
      "metadata": {
        "colab": {
          "base_uri": "https://localhost:8080/"
        },
        "id": "UYOiCZFMCQl8",
        "outputId": "8caf0600-d658-468d-dc2b-f7da572c8c41"
      },
      "execution_count": null,
      "outputs": [
        {
          "output_type": "execute_result",
          "data": {
            "text/plain": [
              "array([3, 4, 5, 6])"
            ]
          },
          "metadata": {},
          "execution_count": 23
        }
      ]
    },
    {
      "cell_type": "code",
      "source": [
        "e_arr * 2"
      ],
      "metadata": {
        "colab": {
          "base_uri": "https://localhost:8080/"
        },
        "id": "CQc3Z5zxCXnK",
        "outputId": "78635124-3317-42e0-9119-aa99b7874837"
      },
      "execution_count": null,
      "outputs": [
        {
          "output_type": "execute_result",
          "data": {
            "text/plain": [
              "array([2, 4, 6, 8])"
            ]
          },
          "metadata": {},
          "execution_count": 24
        }
      ]
    },
    {
      "cell_type": "code",
      "source": [
        "e_arr ** 2"
      ],
      "metadata": {
        "colab": {
          "base_uri": "https://localhost:8080/"
        },
        "id": "6r1BheqaCceA",
        "outputId": "2b2715fe-b530-4632-8e9b-b2c34bcfd759"
      },
      "execution_count": null,
      "outputs": [
        {
          "output_type": "execute_result",
          "data": {
            "text/plain": [
              "array([ 1,  4,  9, 16])"
            ]
          },
          "metadata": {},
          "execution_count": 25
        }
      ]
    },
    {
      "cell_type": "code",
      "source": [
        "f_arr = np.arange(1, 5).reshape(2, 2)\n",
        "g_arr = np.arange(5, 9).reshape(2, 2)\n",
        "\n",
        "print(f_arr)\n",
        "print(g_arr)"
      ],
      "metadata": {
        "colab": {
          "base_uri": "https://localhost:8080/"
        },
        "id": "uB1TtHz4CpRt",
        "outputId": "9b9ef9fc-64f7-4177-dd90-691eb6efa485"
      },
      "execution_count": null,
      "outputs": [
        {
          "output_type": "stream",
          "name": "stdout",
          "text": [
            "[[1 2]\n",
            " [3 4]]\n",
            "[[5 6]\n",
            " [7 8]]\n"
          ]
        }
      ]
    },
    {
      "cell_type": "code",
      "source": [
        "f_arr + g_arr"
      ],
      "metadata": {
        "colab": {
          "base_uri": "https://localhost:8080/"
        },
        "id": "hZk0qNNwC_Tm",
        "outputId": "e8b99965-7970-479d-83f2-c7b9d26cee5f"
      },
      "execution_count": null,
      "outputs": [
        {
          "output_type": "execute_result",
          "data": {
            "text/plain": [
              "array([[ 6,  8],\n",
              "       [10, 12]])"
            ]
          },
          "metadata": {},
          "execution_count": 31
        }
      ]
    },
    {
      "cell_type": "code",
      "source": [
        "f_arr - g_arr"
      ],
      "metadata": {
        "colab": {
          "base_uri": "https://localhost:8080/"
        },
        "id": "6DR_MRWODFpS",
        "outputId": "cd69783f-ccfd-44fb-8757-816eb7975b51"
      },
      "execution_count": null,
      "outputs": [
        {
          "output_type": "execute_result",
          "data": {
            "text/plain": [
              "array([[-4, -4],\n",
              "       [-4, -4]])"
            ]
          },
          "metadata": {},
          "execution_count": 32
        }
      ]
    },
    {
      "cell_type": "code",
      "source": [
        "f_arr * g_arr"
      ],
      "metadata": {
        "colab": {
          "base_uri": "https://localhost:8080/"
        },
        "id": "XpIe2W8LDgCh",
        "outputId": "2b6b127a-d258-4243-ad38-8b511ae9b94c"
      },
      "execution_count": null,
      "outputs": [
        {
          "output_type": "execute_result",
          "data": {
            "text/plain": [
              "array([[ 5, 12],\n",
              "       [21, 32]])"
            ]
          },
          "metadata": {},
          "execution_count": 33
        }
      ]
    },
    {
      "cell_type": "code",
      "source": [
        "f_arr / g_arr"
      ],
      "metadata": {
        "colab": {
          "base_uri": "https://localhost:8080/"
        },
        "id": "EL2Wsw_hDjwX",
        "outputId": "f60611b5-6172-4b55-9a43-774f8e5853d3"
      },
      "execution_count": null,
      "outputs": [
        {
          "output_type": "execute_result",
          "data": {
            "text/plain": [
              "array([[0.2       , 0.33333333],\n",
              "       [0.42857143, 0.5       ]])"
            ]
          },
          "metadata": {},
          "execution_count": 34
        }
      ]
    },
    {
      "cell_type": "code",
      "source": [
        "f_arr.dot(g_arr)"
      ],
      "metadata": {
        "id": "UMkgr0DXECbs",
        "outputId": "7346e464-ccd0-4783-d228-ad2ac79524cc",
        "colab": {
          "base_uri": "https://localhost:8080/"
        }
      },
      "execution_count": null,
      "outputs": [
        {
          "output_type": "execute_result",
          "data": {
            "text/plain": [
              "array([[19, 22],\n",
              "       [43, 50]])"
            ]
          },
          "metadata": {},
          "execution_count": 35
        }
      ]
    }
  ]
}