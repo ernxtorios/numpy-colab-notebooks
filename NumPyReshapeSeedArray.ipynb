{
  "nbformat": 4,
  "nbformat_minor": 0,
  "metadata": {
    "colab": {
      "provenance": [],
      "authorship_tag": "ABX9TyO3akrhD7C1L0y1VkYY0nIy",
      "include_colab_link": true
    },
    "kernelspec": {
      "name": "python3",
      "display_name": "Python 3"
    },
    "language_info": {
      "name": "python"
    }
  },
  "cells": [
    {
      "cell_type": "markdown",
      "metadata": {
        "id": "view-in-github",
        "colab_type": "text"
      },
      "source": [
        "<a href=\"https://colab.research.google.com/github/ernxtorios/numpy-colab-notebooks/blob/main/NumPyReshapeSeedArray.ipynb\" target=\"_parent\"><img src=\"https://colab.research.google.com/assets/colab-badge.svg\" alt=\"Open In Colab\"/></a>"
      ]
    },
    {
      "cell_type": "markdown",
      "source": [
        "# Reshape"
      ],
      "metadata": {
        "id": "aA0ifG2HdTYH"
      }
    },
    {
      "cell_type": "code",
      "execution_count": null,
      "metadata": {
        "id": "kzssn-REdRgN"
      },
      "outputs": [],
      "source": [
        "import numpy as np"
      ]
    },
    {
      "cell_type": "code",
      "source": [
        "a_arr = np.random.randint(1, 50, 12)\n",
        "\n",
        "a_arr"
      ],
      "metadata": {
        "colab": {
          "base_uri": "https://localhost:8080/"
        },
        "id": "VNEHgjvbdtTd",
        "outputId": "8e7fb6c2-5726-4ca3-9f66-5aff4f15e094"
      },
      "execution_count": null,
      "outputs": [
        {
          "output_type": "execute_result",
          "data": {
            "text/plain": [
              "array([ 6, 41, 17, 48, 46, 42, 26, 40, 31, 19, 25, 48])"
            ]
          },
          "metadata": {},
          "execution_count": 2
        }
      ]
    },
    {
      "cell_type": "code",
      "source": [
        "b_arr = a_arr.reshape(2, 6)\n",
        "\n",
        "b_arr"
      ],
      "metadata": {
        "colab": {
          "base_uri": "https://localhost:8080/"
        },
        "id": "2fvyB6cEePlP",
        "outputId": "19ff7f94-da75-4b22-f28a-3376a63d297d"
      },
      "execution_count": null,
      "outputs": [
        {
          "output_type": "execute_result",
          "data": {
            "text/plain": [
              "array([[ 6, 41, 17, 48, 46, 42],\n",
              "       [26, 40, 31, 19, 25, 48]])"
            ]
          },
          "metadata": {},
          "execution_count": 5
        }
      ]
    },
    {
      "cell_type": "code",
      "source": [
        "c_arr = b_arr.reshape(12)\n",
        "\n",
        "c_arr"
      ],
      "metadata": {
        "colab": {
          "base_uri": "https://localhost:8080/"
        },
        "id": "j_lXvHfwe5fw",
        "outputId": "fdba15c5-af52-478d-d3f8-577341655889"
      },
      "execution_count": null,
      "outputs": [
        {
          "output_type": "execute_result",
          "data": {
            "text/plain": [
              "array([ 6, 41, 17, 48, 46, 42, 26, 40, 31, 19, 25, 48])"
            ]
          },
          "metadata": {},
          "execution_count": 6
        }
      ]
    },
    {
      "cell_type": "code",
      "source": [
        "d_arr = a_arr.reshape(3, -1)\n",
        "\n",
        "d_arr"
      ],
      "metadata": {
        "colab": {
          "base_uri": "https://localhost:8080/"
        },
        "id": "ZvMNWgdef9fs",
        "outputId": "6088e19b-44ba-4991-f379-8056725c81ae"
      },
      "execution_count": null,
      "outputs": [
        {
          "output_type": "execute_result",
          "data": {
            "text/plain": [
              "array([[ 6, 41, 17, 48],\n",
              "       [46, 42, 26, 40],\n",
              "       [31, 19, 25, 48]])"
            ]
          },
          "metadata": {},
          "execution_count": 10
        }
      ]
    },
    {
      "cell_type": "code",
      "source": [
        "e_arr = a_arr.reshape(-1, 4)\n",
        "\n",
        "e_arr"
      ],
      "metadata": {
        "colab": {
          "base_uri": "https://localhost:8080/"
        },
        "id": "at1kknk7gREC",
        "outputId": "d7d7a902-1045-4a0d-a275-565af1957b0e"
      },
      "execution_count": null,
      "outputs": [
        {
          "output_type": "execute_result",
          "data": {
            "text/plain": [
              "array([[ 6, 41, 17, 48],\n",
              "       [46, 42, 26, 40],\n",
              "       [31, 19, 25, 48]])"
            ]
          },
          "metadata": {},
          "execution_count": 11
        }
      ]
    },
    {
      "cell_type": "code",
      "source": [
        "np.random.seed(12)\n",
        "\n",
        "f_arr = np.random.randint(1, 50, 10)\n",
        "\n",
        "f_arr"
      ],
      "metadata": {
        "colab": {
          "base_uri": "https://localhost:8080/"
        },
        "id": "WkRcJQEXgdEb",
        "outputId": "6f6ab245-5e02-431b-b0aa-bb1fca0b6356"
      },
      "execution_count": null,
      "outputs": [
        {
          "output_type": "execute_result",
          "data": {
            "text/plain": [
              "array([12, 28,  7,  3,  4,  4, 13, 49, 23,  6])"
            ]
          },
          "metadata": {},
          "execution_count": 28
        }
      ]
    },
    {
      "cell_type": "markdown",
      "source": [
        "## Crea una matriz 1d a partir de la entrada del usuario"
      ],
      "metadata": {
        "id": "uK4GRm_diFW6"
      }
    },
    {
      "cell_type": "code",
      "source": [
        "lista = []\n",
        "tamano = int(input(\"Ingrese el tamaño: \"))\n",
        "for i in range(tamano):\n",
        "  valor = int(input(\"Ingrese un número: \"))\n",
        "  lista.append(valor)\n",
        "\n",
        "g_arr = np.array(lista)\n",
        "\n",
        "g_arr"
      ],
      "metadata": {
        "colab": {
          "base_uri": "https://localhost:8080/"
        },
        "id": "opmn8_KUibHK",
        "outputId": "e260c4f1-41fe-413a-a242-5877519eadde"
      },
      "execution_count": null,
      "outputs": [
        {
          "name": "stdout",
          "output_type": "stream",
          "text": [
            "Ingrese el tamaño: 5\n",
            "Ingrese un número: 5\n",
            "Ingrese un número: 2\n",
            "Ingrese un número: 56\n",
            "Ingrese un número: 89\n",
            "Ingrese un número: 12\n"
          ]
        },
        {
          "output_type": "execute_result",
          "data": {
            "text/plain": [
              "array([ 5,  2, 56, 89, 12])"
            ]
          },
          "metadata": {},
          "execution_count": 29
        }
      ]
    },
    {
      "cell_type": "markdown",
      "source": [
        "## Matriz 2D tomando la entrada del usuario"
      ],
      "metadata": {
        "id": "A9LF_3aXkWlG"
      }
    },
    {
      "cell_type": "code",
      "source": [
        "matriz = []\n",
        "filas = int(input(\"Ingrese el número de filas: \"))\n",
        "columnas = int(input(\"Ingrese el número de columnas: \"))\n",
        "\n",
        "for i in range(filas):\n",
        "  lista = []\n",
        "  for i in range(columnas):\n",
        "    valor = int(input(\"Ingrese un número: \"))\n",
        "    lista.append(valor)\n",
        "  matriz.append(lista)\n",
        "\n",
        "h_arr = np.array(matriz)\n",
        "\n",
        "h_arr"
      ],
      "metadata": {
        "colab": {
          "base_uri": "https://localhost:8080/"
        },
        "id": "Kt-sbGdIkaUQ",
        "outputId": "59797aad-1f03-41c6-ba63-d53904df2c5c"
      },
      "execution_count": null,
      "outputs": [
        {
          "name": "stdout",
          "output_type": "stream",
          "text": [
            "Ingrese el número de filas: 2\n",
            "Ingrese el número de columnas: 2\n",
            "Ingrese un número: 2\n",
            "Ingrese un número: 3\n",
            "Ingrese un número: 1\n",
            "Ingrese un número: 3\n"
          ]
        },
        {
          "output_type": "execute_result",
          "data": {
            "text/plain": [
              "array([[2, 3],\n",
              "       [1, 3]])"
            ]
          },
          "metadata": {},
          "execution_count": 32
        }
      ]
    }
  ]
}